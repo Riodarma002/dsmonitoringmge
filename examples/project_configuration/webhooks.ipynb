{
  "nbformat": 4,
  "nbformat_minor": 5,
  "metadata": {
    "colab": {
      "provenance": [],
      "include_colab_link": true
    },
    "language_info": {
      "name": "python"
    },
    "kernelspec": {
      "name": "python3",
      "display_name": "Python 3"
    }
  },
  "cells": [
    {
      "cell_type": "markdown",
      "metadata": {
        "id": "view-in-github",
        "colab_type": "text"
      },
      "source": [
        "<a href=\"https://colab.research.google.com/github/Riodarma002/dsmonitoringmge/blob/main/examples/project_configuration/webhooks.ipynb\" target=\"_parent\"><img src=\"https://colab.research.google.com/assets/colab-badge.svg\" alt=\"Open In Colab\"/></a>"
      ]
    },
    {
      "metadata": {
        "id": "0ja_j3D8eE6O"
      },
      "source": [
        "<td>\n",
        "   <a target=\"_blank\" href=\"https://labelbox.com\" ><img src=\"https://labelbox.com/blog/content/images/2021/02/logo-v4.svg\" width=256/></a>\n",
        "</td>"
      ],
      "cell_type": "markdown",
      "id": "0ja_j3D8eE6O"
    },
    {
      "metadata": {
        "id": "6orKtGMHeE6V"
      },
      "source": [
        "<td>\n",
        "<a href=\"https://colab.research.google.com/github/Labelbox/labelbox-python/blob/master/examples/project_configuration/webhooks.ipynb\" target=\"_blank\"><img\n",
        "src=\"https://colab.research.google.com/assets/colab-badge.svg\" alt=\"Open In Colab\"></a>\n",
        "</td>\n",
        "\n",
        "<td>\n",
        "<a href=\"https://github.com/Labelbox/labelbox-python/blob/master/examples/project_configuration/webhooks.ipynb\" target=\"_blank\"><img\n",
        "src=\"https://img.shields.io/badge/GitHub-100000?logo=github&logoColor=white\" alt=\"GitHub\"></a>\n",
        "</td>"
      ],
      "cell_type": "markdown",
      "id": "6orKtGMHeE6V"
    },
    {
      "metadata": {
        "id": "J2N3qCmxeE6X"
      },
      "source": [
        "# Webhook Configuration"
      ],
      "cell_type": "markdown",
      "id": "J2N3qCmxeE6X"
    },
    {
      "metadata": {
        "id": "_jgTGirWeE6Z"
      },
      "source": [
        "Webhooks are supported for the following events:\n",
        "* label_created\n",
        "* label_updated\n",
        "* label_deleted"
      ],
      "cell_type": "markdown",
      "id": "_jgTGirWeE6Z"
    },
    {
      "metadata": {
        "id": "tQ25JTNKeE6a",
        "outputId": "b0ad8e64-89a3-4d46-c75d-15e07f57d4f0",
        "colab": {
          "base_uri": "https://localhost:8080/"
        }
      },
      "source": [
        "!pip install labelbox\n",
        "!pip install requests\n",
        "!pip install hmac\n",
        "!pip install hashlib\n",
        "!pip install flask\n",
        "!pip install Werkzeug"
      ],
      "cell_type": "code",
      "outputs": [
        {
          "output_type": "stream",
          "name": "stdout",
          "text": [
            "Collecting labelbox\n",
            "  Downloading labelbox-6.0.0-py3-none-any.whl.metadata (5.4 kB)\n",
            "Collecting geojson>=3.1.0 (from labelbox)\n",
            "  Downloading geojson-3.1.0-py3-none-any.whl.metadata (16 kB)\n",
            "Requirement already satisfied: google-api-core>=1.22.1 in /usr/local/lib/python3.10/dist-packages (from labelbox) (2.19.2)\n",
            "Collecting lbox-clients==1.1.0 (from labelbox)\n",
            "  Downloading lbox_clients-1.1.0-py3-none-any.whl.metadata (1.8 kB)\n",
            "Collecting mypy==1.10.1 (from labelbox)\n",
            "  Downloading mypy-1.10.1-cp310-cp310-manylinux_2_17_x86_64.manylinux2014_x86_64.whl.metadata (1.9 kB)\n",
            "Requirement already satisfied: pydantic>=2.0 in /usr/local/lib/python3.10/dist-packages (from labelbox) (2.9.2)\n",
            "Requirement already satisfied: python-dateutil<2.10.0,>=2.8.2 in /usr/local/lib/python3.10/dist-packages (from labelbox) (2.8.2)\n",
            "Requirement already satisfied: requests>=2.22.0 in /usr/local/lib/python3.10/dist-packages (from labelbox) (2.32.3)\n",
            "Requirement already satisfied: strenum>=0.4.15 in /usr/local/lib/python3.10/dist-packages (from labelbox) (0.4.15)\n",
            "Requirement already satisfied: tqdm>=4.66.2 in /usr/local/lib/python3.10/dist-packages (from labelbox) (4.66.5)\n",
            "Requirement already satisfied: typing-extensions>=4.1.0 in /usr/local/lib/python3.10/dist-packages (from mypy==1.10.1->labelbox) (4.12.2)\n",
            "Collecting mypy-extensions>=1.0.0 (from mypy==1.10.1->labelbox)\n",
            "  Downloading mypy_extensions-1.0.0-py3-none-any.whl.metadata (1.1 kB)\n",
            "Requirement already satisfied: tomli>=1.1.0 in /usr/local/lib/python3.10/dist-packages (from mypy==1.10.1->labelbox) (2.0.2)\n",
            "Requirement already satisfied: googleapis-common-protos<2.0.dev0,>=1.56.2 in /usr/local/lib/python3.10/dist-packages (from google-api-core>=1.22.1->labelbox) (1.65.0)\n",
            "Requirement already satisfied: protobuf!=3.20.0,!=3.20.1,!=4.21.0,!=4.21.1,!=4.21.2,!=4.21.3,!=4.21.4,!=4.21.5,<6.0.0.dev0,>=3.19.5 in /usr/local/lib/python3.10/dist-packages (from google-api-core>=1.22.1->labelbox) (3.20.3)\n",
            "Requirement already satisfied: proto-plus<2.0.0dev,>=1.22.3 in /usr/local/lib/python3.10/dist-packages (from google-api-core>=1.22.1->labelbox) (1.24.0)\n",
            "Requirement already satisfied: google-auth<3.0.dev0,>=2.14.1 in /usr/local/lib/python3.10/dist-packages (from google-api-core>=1.22.1->labelbox) (2.27.0)\n",
            "Requirement already satisfied: annotated-types>=0.6.0 in /usr/local/lib/python3.10/dist-packages (from pydantic>=2.0->labelbox) (0.7.0)\n",
            "Requirement already satisfied: pydantic-core==2.23.4 in /usr/local/lib/python3.10/dist-packages (from pydantic>=2.0->labelbox) (2.23.4)\n",
            "Requirement already satisfied: six>=1.5 in /usr/local/lib/python3.10/dist-packages (from python-dateutil<2.10.0,>=2.8.2->labelbox) (1.16.0)\n",
            "Requirement already satisfied: charset-normalizer<4,>=2 in /usr/local/lib/python3.10/dist-packages (from requests>=2.22.0->labelbox) (3.4.0)\n",
            "Requirement already satisfied: idna<4,>=2.5 in /usr/local/lib/python3.10/dist-packages (from requests>=2.22.0->labelbox) (3.10)\n",
            "Requirement already satisfied: urllib3<3,>=1.21.1 in /usr/local/lib/python3.10/dist-packages (from requests>=2.22.0->labelbox) (2.2.3)\n",
            "Requirement already satisfied: certifi>=2017.4.17 in /usr/local/lib/python3.10/dist-packages (from requests>=2.22.0->labelbox) (2024.8.30)\n",
            "Requirement already satisfied: cachetools<6.0,>=2.0.0 in /usr/local/lib/python3.10/dist-packages (from google-auth<3.0.dev0,>=2.14.1->google-api-core>=1.22.1->labelbox) (5.5.0)\n",
            "Requirement already satisfied: pyasn1-modules>=0.2.1 in /usr/local/lib/python3.10/dist-packages (from google-auth<3.0.dev0,>=2.14.1->google-api-core>=1.22.1->labelbox) (0.4.1)\n",
            "Requirement already satisfied: rsa<5,>=3.1.4 in /usr/local/lib/python3.10/dist-packages (from google-auth<3.0.dev0,>=2.14.1->google-api-core>=1.22.1->labelbox) (4.9)\n",
            "Requirement already satisfied: pyasn1<0.7.0,>=0.4.6 in /usr/local/lib/python3.10/dist-packages (from pyasn1-modules>=0.2.1->google-auth<3.0.dev0,>=2.14.1->google-api-core>=1.22.1->labelbox) (0.6.1)\n",
            "Downloading labelbox-6.0.0-py3-none-any.whl (220 kB)\n",
            "\u001b[2K   \u001b[90m━━━━━━━━━━━━━━━━━━━━━━━━━━━━━━━━━━━━━━━━\u001b[0m \u001b[32m220.3/220.3 kB\u001b[0m \u001b[31m4.7 MB/s\u001b[0m eta \u001b[36m0:00:00\u001b[0m\n",
            "\u001b[?25hDownloading lbox_clients-1.1.0-py3-none-any.whl (8.2 kB)\n",
            "Downloading mypy-1.10.1-cp310-cp310-manylinux_2_17_x86_64.manylinux2014_x86_64.whl (12.7 MB)\n",
            "\u001b[2K   \u001b[90m━━━━━━━━━━━━━━━━━━━━━━━━━━━━━━━━━━━━━━━━\u001b[0m \u001b[32m12.7/12.7 MB\u001b[0m \u001b[31m86.2 MB/s\u001b[0m eta \u001b[36m0:00:00\u001b[0m\n",
            "\u001b[?25hDownloading geojson-3.1.0-py3-none-any.whl (15 kB)\n",
            "Downloading mypy_extensions-1.0.0-py3-none-any.whl (4.7 kB)\n",
            "Installing collected packages: mypy-extensions, geojson, mypy, lbox-clients, labelbox\n",
            "Successfully installed geojson-3.1.0 labelbox-6.0.0 lbox-clients-1.1.0 mypy-1.10.1 mypy-extensions-1.0.0\n",
            "Requirement already satisfied: requests in /usr/local/lib/python3.10/dist-packages (2.32.3)\n",
            "Requirement already satisfied: charset-normalizer<4,>=2 in /usr/local/lib/python3.10/dist-packages (from requests) (3.4.0)\n",
            "Requirement already satisfied: idna<4,>=2.5 in /usr/local/lib/python3.10/dist-packages (from requests) (3.10)\n",
            "Requirement already satisfied: urllib3<3,>=1.21.1 in /usr/local/lib/python3.10/dist-packages (from requests) (2.2.3)\n",
            "Requirement already satisfied: certifi>=2017.4.17 in /usr/local/lib/python3.10/dist-packages (from requests) (2024.8.30)\n",
            "Collecting hmac\n",
            "  Downloading hmac-20101005.tar.gz (4.5 kB)\n",
            "  Preparing metadata (setup.py) ... \u001b[?25l\u001b[?25hdone\n",
            "Requirement already satisfied: setuptools in /usr/local/lib/python3.10/dist-packages (from hmac) (75.1.0)\n",
            "INFO: pip is looking at multiple versions of hmac to determine which version is compatible with other requirements. This could take a while.\n",
            "\u001b[31mERROR: Ignored the following yanked versions: 20081119\u001b[0m\u001b[31m\n",
            "\u001b[0m\u001b[31mERROR: Could not find a version that satisfies the requirement hashlib (from hmac) (from versions: none)\u001b[0m\u001b[31m\n",
            "\u001b[0m\u001b[31mERROR: No matching distribution found for hashlib\u001b[0m\u001b[31m\n",
            "\u001b[0m\u001b[31mERROR: Ignored the following yanked versions: 20081119\u001b[0m\u001b[31m\n",
            "\u001b[0m\u001b[31mERROR: Could not find a version that satisfies the requirement hashlib (from versions: none)\u001b[0m\u001b[31m\n",
            "\u001b[0m\u001b[31mERROR: No matching distribution found for hashlib\u001b[0m\u001b[31m\n",
            "\u001b[0mRequirement already satisfied: flask in /usr/local/lib/python3.10/dist-packages (2.2.5)\n",
            "Requirement already satisfied: Werkzeug>=2.2.2 in /usr/local/lib/python3.10/dist-packages (from flask) (3.0.4)\n",
            "Requirement already satisfied: Jinja2>=3.0 in /usr/local/lib/python3.10/dist-packages (from flask) (3.1.4)\n",
            "Requirement already satisfied: itsdangerous>=2.0 in /usr/local/lib/python3.10/dist-packages (from flask) (2.2.0)\n",
            "Requirement already satisfied: click>=8.0 in /usr/local/lib/python3.10/dist-packages (from flask) (8.1.7)\n",
            "Requirement already satisfied: MarkupSafe>=2.0 in /usr/local/lib/python3.10/dist-packages (from Jinja2>=3.0->flask) (3.0.2)\n",
            "Requirement already satisfied: Werkzeug in /usr/local/lib/python3.10/dist-packages (3.0.4)\n",
            "Requirement already satisfied: MarkupSafe>=2.1.1 in /usr/local/lib/python3.10/dist-packages (from Werkzeug) (3.0.2)\n"
          ]
        }
      ],
      "execution_count": 1,
      "id": "tQ25JTNKeE6a"
    },
    {
      "metadata": {
        "id": "M2XE0chheE6c"
      },
      "source": [
        "import labelbox as lb\n",
        "from flask import Flask, request\n",
        "import hmac\n",
        "import hashlib\n",
        "import threading\n",
        "from werkzeug.serving import run_simple\n",
        "import json\n",
        "import requests\n",
        "import os\n",
        "from getpass import getpass\n",
        "import socket"
      ],
      "cell_type": "code",
      "outputs": [],
      "execution_count": 6,
      "id": "M2XE0chheE6c"
    },
    {
      "metadata": {
        "id": "t3ptdIT-eE6d",
        "outputId": "0c35a416-5ff2-418b-a585-3703f14c888c",
        "colab": {
          "base_uri": "https://localhost:8080/"
        }
      },
      "source": [
        "# If you don't want to give google access to drive you can skip this cell\n",
        "# and manually set `API_KEY` below.\n",
        "\n",
        "COLAB = \"google.colab\" in str(get_ipython())\n",
        "if COLAB:\n",
        "    !pip install colab-env -qU\n",
        "    from colab_env import envvar_handler\n",
        "\n",
        "    envvar_handler.envload()\n",
        "\n",
        "API_KEY = os.environ.get(\"LABELBOX_API_KEY\")\n",
        "if not os.environ.get(\"LABELBOX_API_KEY\"):\n",
        "    API_KEY = getpass(\"Please enter your labelbox api key\")\n",
        "    if COLAB:\n",
        "        envvar_handler.add_env(\"LABELBOX_API_KEY\", API_KEY)"
      ],
      "cell_type": "code",
      "outputs": [
        {
          "name": "stdout",
          "output_type": "stream",
          "text": [
            "Mounted at /content/gdrive\n",
            "Creating vars.env in your Google Drive!\n",
            "Please enter your labelbox api key··········\n"
          ]
        }
      ],
      "execution_count": 5,
      "id": "t3ptdIT-eE6d"
    },
    {
      "metadata": {
        "id": "XH8t_NlweE6f"
      },
      "source": [
        "# Set this to a project that you want to use for the webhook\n",
        "PROJECT_ID = \"\"\n",
        "# Only update this if you have an on-prem deployment\n",
        "ENDPOINT = \"https://api.labelbox.com/graphql\""
      ],
      "cell_type": "code",
      "outputs": [],
      "execution_count": 7,
      "id": "XH8t_NlweE6f"
    },
    {
      "metadata": {
        "id": "-sU3QIvBeE6g"
      },
      "source": [
        "client = lb.Client(api_key=API_KEY, endpoint=ENDPOINT)"
      ],
      "cell_type": "code",
      "outputs": [],
      "execution_count": 8,
      "id": "-sU3QIvBeE6g"
    },
    {
      "metadata": {
        "id": "got--P8geE6h"
      },
      "source": [
        "# We are using port 3001 for this example.\n",
        "# Feel free to set to whatever port you want\n",
        "WH_PORT = 3001"
      ],
      "cell_type": "code",
      "outputs": [],
      "execution_count": 9,
      "id": "got--P8geE6h"
    },
    {
      "metadata": {
        "id": "40nf8ikXeE6i"
      },
      "source": [
        "### Configure NGROK (Optional)\n",
        "* If you do not have a public ip address then follow along\n",
        "\n",
        "1. Create an account:\n",
        "    https://dashboard.ngrok.com/get-started/setup\n",
        "2. Download ngrok and extract the zip file\n",
        "3. Add ngrok to your path\n",
        "4. Add the authtoken `ngrok authtoken <token>`"
      ],
      "cell_type": "markdown",
      "id": "40nf8ikXeE6i"
    },
    {
      "metadata": {
        "id": "MT95g2WaeE6k"
      },
      "source": [
        "if not COLAB:\n",
        "    os.system(f\"ngrok http {WH_PORT} &\")"
      ],
      "cell_type": "code",
      "outputs": [],
      "execution_count": 10,
      "id": "MT95g2WaeE6k"
    },
    {
      "metadata": {
        "id": "moXwVw7xeE6l"
      },
      "source": [
        "### Configure server to receive requests"
      ],
      "cell_type": "markdown",
      "id": "moXwVw7xeE6l"
    },
    {
      "metadata": {
        "id": "x8VYo_vHeE6l"
      },
      "source": [
        "# This can be any secret that matches your webhook config (we will set later)\n",
        "secret = b\"example_secret\""
      ],
      "cell_type": "code",
      "outputs": [],
      "execution_count": 11,
      "id": "x8VYo_vHeE6l"
    },
    {
      "metadata": {
        "id": "eOT7G4PzeE6m",
        "outputId": "9fa09640-af50-4b29-b2c1-d987d14dce55",
        "colab": {
          "base_uri": "https://localhost:8080/"
        }
      },
      "source": [
        "app = Flask(__name__)\n",
        "\n",
        "\n",
        "@app.route(\"/\")\n",
        "def hello_world():\n",
        "    return \"Hello, World!\"\n",
        "\n",
        "\n",
        "@app.route(\"/webhook-endpoint\", methods=[\"POST\"])\n",
        "def print_webhook_info():\n",
        "    payload = request.data\n",
        "    computed_signature = hmac.new(secret, msg=payload,\n",
        "                                  digestmod=hashlib.sha1).hexdigest()\n",
        "    if request.headers[\"X-Hub-Signature\"] != \"sha1=\" + computed_signature:\n",
        "        print(\n",
        "            \"Error: computed_signature does not match signature provided in the headers\"\n",
        "        )\n",
        "        return \"Error\", 500, 200\n",
        "\n",
        "    print(\"=========== New Webhook Delivery ============\")\n",
        "    print(\"Delivery ID: %s\" % request.headers[\"X-Labelbox-Id\"])\n",
        "    print(\"Event: %s\" % request.headers[\"X-Labelbox-Event\"])\n",
        "    print(\"Payload: %s\" %\n",
        "          json.dumps(json.loads(payload.decode(\"utf8\")), indent=4))\n",
        "    return \"Success\"\n",
        "\n",
        "\n",
        "thread = threading.Thread(target=lambda: run_simple(\"0.0.0.0\", WH_PORT, app))\n",
        "thread.start()"
      ],
      "cell_type": "code",
      "outputs": [
        {
          "output_type": "stream",
          "name": "stderr",
          "text": [
            "INFO:werkzeug:\u001b[31m\u001b[1mWARNING: This is a development server. Do not use it in a production deployment. Use a production WSGI server instead.\u001b[0m\n",
            " * Running on all addresses (0.0.0.0)\n",
            " * Running on http://127.0.0.1:3001\n",
            " * Running on http://172.28.0.12:3001\n",
            "INFO:werkzeug:\u001b[33mPress CTRL+C to quit\u001b[0m\n"
          ]
        }
      ],
      "execution_count": 12,
      "id": "eOT7G4PzeE6m"
    },
    {
      "metadata": {
        "id": "0eZhF4OleE6n"
      },
      "source": [
        "#### Test server"
      ],
      "cell_type": "markdown",
      "id": "0eZhF4OleE6n"
    },
    {
      "metadata": {
        "id": "M_gw63rFeE6n",
        "outputId": "0dfad645-4882-4d75-8fb1-c796d8e40e53",
        "colab": {
          "base_uri": "https://localhost:8080/"
        }
      },
      "source": [
        "print(requests.get(\"http://localhost:3001\").text)"
      ],
      "cell_type": "code",
      "outputs": [
        {
          "output_type": "stream",
          "name": "stderr",
          "text": [
            "INFO:werkzeug:127.0.0.1 - - [26/Oct/2024 02:19:43] \"GET / HTTP/1.1\" 200 -\n"
          ]
        },
        {
          "output_type": "stream",
          "name": "stdout",
          "text": [
            "Hello, World!\n"
          ]
        }
      ],
      "execution_count": 14,
      "id": "M_gw63rFeE6n"
    },
    {
      "metadata": {
        "id": "jSgJTZEzeE6n"
      },
      "source": [
        "### Create Webhook"
      ],
      "cell_type": "markdown",
      "id": "jSgJTZEzeE6n"
    },
    {
      "metadata": {
        "id": "k201uFW-eE6o"
      },
      "source": [
        "- Set ip address if your ip is publicly accessible.\n",
        "- Otherwise use the following to get ngrok public_url"
      ],
      "cell_type": "markdown",
      "id": "k201uFW-eE6o"
    },
    {
      "metadata": {
        "id": "7rCi7p7KeE6o",
        "outputId": "4d3bb44d-972f-4887-979a-1d4e2bda1279",
        "colab": {
          "base_uri": "https://localhost:8080/"
        }
      },
      "source": [
        "if not COLAB:\n",
        "    res = requests.get(\"http://localhost:4040/api/tunnels\")\n",
        "    assert (res.status_code == 200\n",
        "           ), f\"ngrok probably isn't running. {res.status_code}, {res.text}\"\n",
        "    tunnels = res.json()[\"tunnels\"]\n",
        "    tunnel = [\n",
        "        t for t in tunnels if t[\"config\"][\"addr\"].split(\":\")[-1] == str(WH_PORT)\n",
        "    ]\n",
        "    tunnel = tunnel[0]  # Should only be one..\n",
        "    public_url = tunnel[\"public_url\"]\n",
        "else:\n",
        "    public_url = f\"http://{socket.gethostbyname(socket.getfqdn(socket.gethostname()))}\"\n",
        "print(public_url)"
      ],
      "cell_type": "code",
      "outputs": [
        {
          "output_type": "stream",
          "name": "stdout",
          "text": [
            "http://172.28.0.12\n"
          ]
        }
      ],
      "execution_count": 15,
      "id": "7rCi7p7KeE6o"
    },
    {
      "metadata": {
        "id": "Vku0qKhseE6o",
        "outputId": "93f9322c-4907-4210-c389-3235b5705113",
        "colab": {
          "base_uri": "https://localhost:8080/",
          "height": 442
        }
      },
      "source": [
        "# Set project to limit the scope to a single project\n",
        "project = client.get_project7770115259:AAGKage1kPMCDtah7-WixzWGwYI9jqTRyhE)\n",
        "topics = {topic.value for topic in lb.Webhook.Topic}\n",
        "# For Global Webhooks (Global = per workspace) project = None\n",
        "webhook = lb.Webhook.create(client,\n",
        "                         topics=topics,\n",
        "                         url=public_url,\n",
        "                         secret=secret.decode(),\n",
        "                         project=project)"
      ],
      "cell_type": "code",
      "outputs": [
        {
          "output_type": "error",
          "ename": "InvalidQueryError",
          "evalue": "Field \"project\" argument \"where\" of type \"WhereUniqueIdInput!\" is required, but it was not provided.",
          "traceback": [
            "\u001b[0;31m---------------------------------------------------------------------------\u001b[0m",
            "\u001b[0;31mInvalidQueryError\u001b[0m                         Traceback (most recent call last)",
            "\u001b[0;32m<ipython-input-24-8c5b83a33f20>\u001b[0m in \u001b[0;36m<cell line: 2>\u001b[0;34m()\u001b[0m\n\u001b[1;32m      1\u001b[0m \u001b[0;31m# Set project to limit the scope to a single project\u001b[0m\u001b[0;34m\u001b[0m\u001b[0;34m\u001b[0m\u001b[0m\n\u001b[0;32m----> 2\u001b[0;31m \u001b[0mproject\u001b[0m \u001b[0;34m=\u001b[0m \u001b[0mclient\u001b[0m\u001b[0;34m.\u001b[0m\u001b[0mget_project\u001b[0m\u001b[0;34m(\u001b[0m\u001b[0mPROJECT_ID\u001b[0m\u001b[0;34m)\u001b[0m\u001b[0;34m\u001b[0m\u001b[0;34m\u001b[0m\u001b[0m\n\u001b[0m\u001b[1;32m      3\u001b[0m \u001b[0mtopics\u001b[0m \u001b[0;34m=\u001b[0m \u001b[0;34m{\u001b[0m\u001b[0mtopic\u001b[0m\u001b[0;34m.\u001b[0m\u001b[0mvalue\u001b[0m \u001b[0;32mfor\u001b[0m \u001b[0mtopic\u001b[0m \u001b[0;32min\u001b[0m \u001b[0mlb\u001b[0m\u001b[0;34m.\u001b[0m\u001b[0mWebhook\u001b[0m\u001b[0;34m.\u001b[0m\u001b[0mTopic\u001b[0m\u001b[0;34m}\u001b[0m\u001b[0;34m\u001b[0m\u001b[0;34m\u001b[0m\u001b[0m\n\u001b[1;32m      4\u001b[0m \u001b[0;31m# For Global Webhooks (Global = per workspace) project = None\u001b[0m\u001b[0;34m\u001b[0m\u001b[0;34m\u001b[0m\u001b[0m\n\u001b[1;32m      5\u001b[0m webhook = lb.Webhook.create(client,\n",
            "\u001b[0;32m/usr/local/lib/python3.10/dist-packages/labelbox/client.py\u001b[0m in \u001b[0;36mget_project\u001b[0;34m(self, project_id)\u001b[0m\n\u001b[1;32m    333\u001b[0m                 \u001b[0mProject\u001b[0m \u001b[0;32mwith\u001b[0m \u001b[0mthe\u001b[0m \u001b[0mgiven\u001b[0m \u001b[0mID\u001b[0m\u001b[0;34m.\u001b[0m\u001b[0;34m\u001b[0m\u001b[0;34m\u001b[0m\u001b[0m\n\u001b[1;32m    334\u001b[0m         \"\"\"\n\u001b[0;32m--> 335\u001b[0;31m         \u001b[0;32mreturn\u001b[0m \u001b[0mself\u001b[0m\u001b[0;34m.\u001b[0m\u001b[0m_get_single\u001b[0m\u001b[0;34m(\u001b[0m\u001b[0mEntity\u001b[0m\u001b[0;34m.\u001b[0m\u001b[0mProject\u001b[0m\u001b[0;34m,\u001b[0m \u001b[0mproject_id\u001b[0m\u001b[0;34m)\u001b[0m\u001b[0;34m\u001b[0m\u001b[0;34m\u001b[0m\u001b[0m\n\u001b[0m\u001b[1;32m    336\u001b[0m \u001b[0;34m\u001b[0m\u001b[0m\n\u001b[1;32m    337\u001b[0m     \u001b[0;32mdef\u001b[0m \u001b[0mget_dataset\u001b[0m\u001b[0;34m(\u001b[0m\u001b[0mself\u001b[0m\u001b[0;34m,\u001b[0m \u001b[0mdataset_id\u001b[0m\u001b[0;34m)\u001b[0m \u001b[0;34m->\u001b[0m \u001b[0mDataset\u001b[0m\u001b[0;34m:\u001b[0m\u001b[0;34m\u001b[0m\u001b[0;34m\u001b[0m\u001b[0m\n",
            "\u001b[0;32m/usr/local/lib/python3.10/dist-packages/labelbox/client.py\u001b[0m in \u001b[0;36m_get_single\u001b[0;34m(self, db_object_type, uid)\u001b[0m\n\u001b[1;32m    313\u001b[0m         \u001b[0mquery_str\u001b[0m\u001b[0;34m,\u001b[0m \u001b[0mparams\u001b[0m \u001b[0;34m=\u001b[0m \u001b[0mquery\u001b[0m\u001b[0;34m.\u001b[0m\u001b[0mget_single\u001b[0m\u001b[0;34m(\u001b[0m\u001b[0mdb_object_type\u001b[0m\u001b[0;34m,\u001b[0m \u001b[0muid\u001b[0m\u001b[0;34m)\u001b[0m\u001b[0;34m\u001b[0m\u001b[0;34m\u001b[0m\u001b[0m\n\u001b[1;32m    314\u001b[0m \u001b[0;34m\u001b[0m\u001b[0m\n\u001b[0;32m--> 315\u001b[0;31m         \u001b[0mres\u001b[0m \u001b[0;34m=\u001b[0m \u001b[0mself\u001b[0m\u001b[0;34m.\u001b[0m\u001b[0mexecute\u001b[0m\u001b[0;34m(\u001b[0m\u001b[0mquery_str\u001b[0m\u001b[0;34m,\u001b[0m \u001b[0mparams\u001b[0m\u001b[0;34m)\u001b[0m\u001b[0;34m\u001b[0m\u001b[0;34m\u001b[0m\u001b[0m\n\u001b[0m\u001b[1;32m    316\u001b[0m         \u001b[0mres\u001b[0m \u001b[0;34m=\u001b[0m \u001b[0mres\u001b[0m \u001b[0;32mand\u001b[0m \u001b[0mres\u001b[0m\u001b[0;34m.\u001b[0m\u001b[0mget\u001b[0m\u001b[0;34m(\u001b[0m\u001b[0mutils\u001b[0m\u001b[0;34m.\u001b[0m\u001b[0mcamel_case\u001b[0m\u001b[0;34m(\u001b[0m\u001b[0mdb_object_type\u001b[0m\u001b[0;34m.\u001b[0m\u001b[0mtype_name\u001b[0m\u001b[0;34m(\u001b[0m\u001b[0;34m)\u001b[0m\u001b[0;34m)\u001b[0m\u001b[0;34m)\u001b[0m\u001b[0;34m\u001b[0m\u001b[0;34m\u001b[0m\u001b[0m\n\u001b[1;32m    317\u001b[0m         \u001b[0;32mif\u001b[0m \u001b[0mres\u001b[0m \u001b[0;32mis\u001b[0m \u001b[0;32mNone\u001b[0m\u001b[0;34m:\u001b[0m\u001b[0;34m\u001b[0m\u001b[0;34m\u001b[0m\u001b[0m\n",
            "\u001b[0;32m/usr/local/lib/python3.10/dist-packages/labelbox/client.py\u001b[0m in \u001b[0;36mexecute\u001b[0;34m(self, query, params, data, files, timeout, experimental, error_log_key, raise_return_resource_not_found, error_handlers)\u001b[0m\n\u001b[1;32m    184\u001b[0m             \u001b[0mdict\u001b[0m\u001b[0;34m:\u001b[0m \u001b[0mThe\u001b[0m \u001b[0mresponse\u001b[0m \u001b[0;32mfrom\u001b[0m \u001b[0mthe\u001b[0m \u001b[0mserver\u001b[0m\u001b[0;34m.\u001b[0m\u001b[0;34m\u001b[0m\u001b[0;34m\u001b[0m\u001b[0m\n\u001b[1;32m    185\u001b[0m         \"\"\"\n\u001b[0;32m--> 186\u001b[0;31m         return self._request_client.execute(\n\u001b[0m\u001b[1;32m    187\u001b[0m             \u001b[0mquery\u001b[0m\u001b[0;34m,\u001b[0m\u001b[0;34m\u001b[0m\u001b[0;34m\u001b[0m\u001b[0m\n\u001b[1;32m    188\u001b[0m             \u001b[0mparams\u001b[0m\u001b[0;34m,\u001b[0m\u001b[0;34m\u001b[0m\u001b[0;34m\u001b[0m\u001b[0m\n",
            "\u001b[0;32m/usr/local/lib/python3.10/dist-packages/google/api_core/retry/retry_unary.py\u001b[0m in \u001b[0;36mretry_wrapped_func\u001b[0;34m(*args, **kwargs)\u001b[0m\n\u001b[1;32m    291\u001b[0m                 \u001b[0mself\u001b[0m\u001b[0;34m.\u001b[0m\u001b[0m_initial\u001b[0m\u001b[0;34m,\u001b[0m \u001b[0mself\u001b[0m\u001b[0;34m.\u001b[0m\u001b[0m_maximum\u001b[0m\u001b[0;34m,\u001b[0m \u001b[0mmultiplier\u001b[0m\u001b[0;34m=\u001b[0m\u001b[0mself\u001b[0m\u001b[0;34m.\u001b[0m\u001b[0m_multiplier\u001b[0m\u001b[0;34m\u001b[0m\u001b[0;34m\u001b[0m\u001b[0m\n\u001b[1;32m    292\u001b[0m             )\n\u001b[0;32m--> 293\u001b[0;31m             return retry_target(\n\u001b[0m\u001b[1;32m    294\u001b[0m                 \u001b[0mtarget\u001b[0m\u001b[0;34m,\u001b[0m\u001b[0;34m\u001b[0m\u001b[0;34m\u001b[0m\u001b[0m\n\u001b[1;32m    295\u001b[0m                 \u001b[0mself\u001b[0m\u001b[0;34m.\u001b[0m\u001b[0m_predicate\u001b[0m\u001b[0;34m,\u001b[0m\u001b[0;34m\u001b[0m\u001b[0;34m\u001b[0m\u001b[0m\n",
            "\u001b[0;32m/usr/local/lib/python3.10/dist-packages/google/api_core/retry/retry_unary.py\u001b[0m in \u001b[0;36mretry_target\u001b[0;34m(target, predicate, sleep_generator, timeout, on_error, exception_factory, **kwargs)\u001b[0m\n\u001b[1;32m    151\u001b[0m         \u001b[0;32mexcept\u001b[0m \u001b[0mException\u001b[0m \u001b[0;32mas\u001b[0m \u001b[0mexc\u001b[0m\u001b[0;34m:\u001b[0m\u001b[0;34m\u001b[0m\u001b[0;34m\u001b[0m\u001b[0m\n\u001b[1;32m    152\u001b[0m             \u001b[0;31m# defer to shared logic for handling errors\u001b[0m\u001b[0;34m\u001b[0m\u001b[0;34m\u001b[0m\u001b[0m\n\u001b[0;32m--> 153\u001b[0;31m             _retry_error_helper(\n\u001b[0m\u001b[1;32m    154\u001b[0m                 \u001b[0mexc\u001b[0m\u001b[0;34m,\u001b[0m\u001b[0;34m\u001b[0m\u001b[0;34m\u001b[0m\u001b[0m\n\u001b[1;32m    155\u001b[0m                 \u001b[0mdeadline\u001b[0m\u001b[0;34m,\u001b[0m\u001b[0;34m\u001b[0m\u001b[0;34m\u001b[0m\u001b[0m\n",
            "\u001b[0;32m/usr/local/lib/python3.10/dist-packages/google/api_core/retry/retry_base.py\u001b[0m in \u001b[0;36m_retry_error_helper\u001b[0;34m(exc, deadline, next_sleep, error_list, predicate_fn, on_error_fn, exc_factory_fn, original_timeout)\u001b[0m\n\u001b[1;32m    210\u001b[0m             \u001b[0moriginal_timeout\u001b[0m\u001b[0;34m,\u001b[0m\u001b[0;34m\u001b[0m\u001b[0;34m\u001b[0m\u001b[0m\n\u001b[1;32m    211\u001b[0m         )\n\u001b[0;32m--> 212\u001b[0;31m         \u001b[0;32mraise\u001b[0m \u001b[0mfinal_exc\u001b[0m \u001b[0;32mfrom\u001b[0m \u001b[0msource_exc\u001b[0m\u001b[0;34m\u001b[0m\u001b[0;34m\u001b[0m\u001b[0m\n\u001b[0m\u001b[1;32m    213\u001b[0m     \u001b[0;32mif\u001b[0m \u001b[0mon_error_fn\u001b[0m \u001b[0;32mis\u001b[0m \u001b[0;32mnot\u001b[0m \u001b[0;32mNone\u001b[0m\u001b[0;34m:\u001b[0m\u001b[0;34m\u001b[0m\u001b[0;34m\u001b[0m\u001b[0m\n\u001b[1;32m    214\u001b[0m         \u001b[0mon_error_fn\u001b[0m\u001b[0;34m(\u001b[0m\u001b[0mexc\u001b[0m\u001b[0;34m)\u001b[0m\u001b[0;34m\u001b[0m\u001b[0;34m\u001b[0m\u001b[0m\n",
            "\u001b[0;32m/usr/local/lib/python3.10/dist-packages/google/api_core/retry/retry_unary.py\u001b[0m in \u001b[0;36mretry_target\u001b[0;34m(target, predicate, sleep_generator, timeout, on_error, exception_factory, **kwargs)\u001b[0m\n\u001b[1;32m    142\u001b[0m     \u001b[0;32mfor\u001b[0m \u001b[0msleep\u001b[0m \u001b[0;32min\u001b[0m \u001b[0msleep_generator\u001b[0m\u001b[0;34m:\u001b[0m\u001b[0;34m\u001b[0m\u001b[0;34m\u001b[0m\u001b[0m\n\u001b[1;32m    143\u001b[0m         \u001b[0;32mtry\u001b[0m\u001b[0;34m:\u001b[0m\u001b[0;34m\u001b[0m\u001b[0;34m\u001b[0m\u001b[0m\n\u001b[0;32m--> 144\u001b[0;31m             \u001b[0mresult\u001b[0m \u001b[0;34m=\u001b[0m \u001b[0mtarget\u001b[0m\u001b[0;34m(\u001b[0m\u001b[0;34m)\u001b[0m\u001b[0;34m\u001b[0m\u001b[0;34m\u001b[0m\u001b[0m\n\u001b[0m\u001b[1;32m    145\u001b[0m             \u001b[0;32mif\u001b[0m \u001b[0minspect\u001b[0m\u001b[0;34m.\u001b[0m\u001b[0misawaitable\u001b[0m\u001b[0;34m(\u001b[0m\u001b[0mresult\u001b[0m\u001b[0;34m)\u001b[0m\u001b[0;34m:\u001b[0m\u001b[0;34m\u001b[0m\u001b[0;34m\u001b[0m\u001b[0m\n\u001b[1;32m    146\u001b[0m                 \u001b[0mwarnings\u001b[0m\u001b[0;34m.\u001b[0m\u001b[0mwarn\u001b[0m\u001b[0;34m(\u001b[0m\u001b[0m_ASYNC_RETRY_WARNING\u001b[0m\u001b[0;34m)\u001b[0m\u001b[0;34m\u001b[0m\u001b[0;34m\u001b[0m\u001b[0m\n",
            "\u001b[0;32m/usr/local/lib/python3.10/dist-packages/lbox/request_client.py\u001b[0m in \u001b[0;36mexecute\u001b[0;34m(self, query, params, data, files, timeout, experimental, error_log_key, raise_return_resource_not_found, error_handlers)\u001b[0m\n\u001b[1;32m    323\u001b[0m                 \u001b[0;32mraise\u001b[0m \u001b[0mexceptions\u001b[0m\u001b[0;34m.\u001b[0m\u001b[0mValidationFailedError\u001b[0m\u001b[0;34m(\u001b[0m\u001b[0mmessage\u001b[0m\u001b[0;34m)\u001b[0m\u001b[0;34m\u001b[0m\u001b[0;34m\u001b[0m\u001b[0m\n\u001b[1;32m    324\u001b[0m             \u001b[0;32melse\u001b[0m\u001b[0;34m:\u001b[0m\u001b[0;34m\u001b[0m\u001b[0;34m\u001b[0m\u001b[0m\n\u001b[0;32m--> 325\u001b[0;31m                 \u001b[0;32mraise\u001b[0m \u001b[0mexceptions\u001b[0m\u001b[0;34m.\u001b[0m\u001b[0mInvalidQueryError\u001b[0m\u001b[0;34m(\u001b[0m\u001b[0mmessage\u001b[0m\u001b[0;34m)\u001b[0m\u001b[0;34m\u001b[0m\u001b[0;34m\u001b[0m\u001b[0m\n\u001b[0m\u001b[1;32m    326\u001b[0m \u001b[0;34m\u001b[0m\u001b[0m\n\u001b[1;32m    327\u001b[0m         \u001b[0mgraphql_error\u001b[0m \u001b[0;34m=\u001b[0m \u001b[0mcheck_errors\u001b[0m\u001b[0;34m(\u001b[0m\u001b[0;34m[\u001b[0m\u001b[0;34m\"GRAPHQL_PARSE_FAILED\"\u001b[0m\u001b[0;34m]\u001b[0m\u001b[0;34m,\u001b[0m \u001b[0;34m\"extensions\"\u001b[0m\u001b[0;34m,\u001b[0m \u001b[0;34m\"code\"\u001b[0m\u001b[0;34m)\u001b[0m\u001b[0;34m\u001b[0m\u001b[0;34m\u001b[0m\u001b[0m\n",
            "\u001b[0;31mInvalidQueryError\u001b[0m: Field \"project\" argument \"where\" of type \"WhereUniqueIdInput!\" is required, but it was not provided."
          ]
        }
      ],
      "execution_count": 24,
      "id": "Vku0qKhseE6o"
    },
    {
      "metadata": {
        "id": "w6bkjaaReE6p"
      },
      "source": [
        "# Ok so we should be configured assuming everything is setup correctly.\n",
        "# Go to the following url and make a new label to see if it works\n",
        "print(f\"https://app.labelbox.com/projects/{PROJECT_ID}\")"
      ],
      "cell_type": "code",
      "outputs": [],
      "execution_count": null,
      "id": "w6bkjaaReE6p"
    },
    {
      "metadata": {
        "id": "CiNfMtx5eE6p"
      },
      "source": [
        "### Update Webhook"
      ],
      "cell_type": "markdown",
      "id": "CiNfMtx5eE6p"
    },
    {
      "metadata": {
        "id": "erEZ9CIleE6p"
      },
      "source": [
        "# url, topics, and status can all be updated\n",
        "updated_url = f\"{public_url}/webhook-endpoint\"\n",
        "print(updated_url)\n",
        "webhook.update(url=updated_url)\n",
        "# Go to the following url and try one last time.\n",
        "# Any supported action should work (create, delete, or update a label)\n",
        "print(f\"https://app.labelbox.com/projects/{PROJECT_ID}\")"
      ],
      "cell_type": "code",
      "outputs": [],
      "execution_count": null,
      "id": "erEZ9CIleE6p"
    },
    {
      "metadata": {
        "id": "r-jBwyPkeE6p"
      },
      "source": [
        "### List and delete all webhooks"
      ],
      "cell_type": "markdown",
      "id": "r-jBwyPkeE6p"
    },
    {
      "metadata": {
        "id": "yJhndsm0eE6p"
      },
      "source": [
        "# DELETE:\n",
        "webhook.update(status=lb.Webhook.Status.INACTIVE.value)\n",
        "\n",
        "# FETCH ALL WEBHOOKS:\n",
        "org = client.get_organization()\n",
        "webhooks = org.webhooks()\n",
        "\n",
        "# Run this to clear all.\n",
        "# WARNING!!! THIS WILL DELETE ALL WEBHOOKS FOR YOUR ORG\n",
        "# ONLY RUN THIS IS YOU KNOW WHAT YOU ARE DOING.\n",
        "# for webhook in webhooks:\n",
        "#    print(webhook)\n",
        "#    webhook.update(status = lb.Webhook.Status.INACTIVE.value)"
      ],
      "cell_type": "code",
      "outputs": [],
      "execution_count": null,
      "id": "yJhndsm0eE6p"
    }
  ]
}